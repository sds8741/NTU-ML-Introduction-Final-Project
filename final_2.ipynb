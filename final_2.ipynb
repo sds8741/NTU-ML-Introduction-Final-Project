{
  "nbformat": 4,
  "nbformat_minor": 0,
  "metadata": {
    "accelerator": "GPU",
    "colab": {
      "name": "final2.ipynb",
      "provenance": [],
      "collapsed_sections": []
    },
    "kernelspec": {
      "display_name": "Python 3",
      "name": "python3"
    }
  },
  "cells": [
    {
      "cell_type": "code",
      "metadata": {
        "colab": {
          "base_uri": "https://localhost:8080/"
        },
        "id": "AsTmjWTfIQxN",
        "outputId": "63d18f34-f09f-4c54-9475-e6777c084a93"
      },
      "source": [
        "from google.colab import drive\r\n",
        "drive.mount('/content/gdrive')"
      ],
      "execution_count": null,
      "outputs": [
        {
          "output_type": "stream",
          "text": [
            "Mounted at /content/gdrive\n"
          ],
          "name": "stdout"
        }
      ]
    },
    {
      "cell_type": "code",
      "metadata": {
        "colab": {
          "base_uri": "https://localhost:8080/"
        },
        "id": "irL-5posIUIS",
        "outputId": "3aa6f6d8-68db-4e17-e8ad-a27339eeabb8"
      },
      "source": [
        "cd gdrive/My Drive"
      ],
      "execution_count": null,
      "outputs": [
        {
          "output_type": "stream",
          "text": [
            "/content/gdrive/My Drive\n"
          ],
          "name": "stdout"
        }
      ]
    },
    {
      "cell_type": "code",
      "metadata": {
        "id": "p_D5zwBtIXnH"
      },
      "source": [
        "from keras.applications import InceptionV3\r\n",
        "from keras.preprocessing.image import ImageDataGenerator \r\n",
        "from keras.models import Sequential\r\n",
        "from matplotlib import pyplot as plt\r\n",
        "import numpy as np\r\n",
        "import pandas as pd\r\n",
        "import os\r\n",
        "from skimage import io\r\n",
        "from skimage.io import imread,imshow\r\n",
        "from skimage import util\r\n",
        "from skimage import data,filters\r\n",
        "from keras.layers import Conv2D,BatchNormalization,Flatten,MaxPool2D,Dropout,Dense\r\n",
        "from keras import layers,Model,models,optimizers,regularizers\r\n",
        "from skimage.color import rgb2gray\r\n",
        "from skimage.color import gray2rgb\r\n",
        "from skimage.measure import compare_ssim\r\n",
        "from skimage.transform import resize\r\n",
        "from keras.applications import Xception,InceptionV3,ResNet152V2,InceptionResNetV2,ResNet152V2,NASNetLarge,DenseNet201"
      ],
      "execution_count": null,
      "outputs": []
    },
    {
      "cell_type": "code",
      "metadata": {
        "id": "HLzsmLEeIciD"
      },
      "source": [
        "def image_data_generator(data_dir,data_augment=False,\r\n",
        "                       batch_size=10,\r\n",
        "                       target_size=(331,331),\r\n",
        "                       class_mode='categorical',\r\n",
        "                       subset='training',\r\n",
        "                       shuffle=True):\r\n",
        "  if data_augment:\r\n",
        "      datagen = ImageDataGenerator(rescale=1./255,\r\n",
        "                                   rotation_range=20,\r\n",
        "\t\t\t\t\t\t\t\t\t\t\t\t\t\t\t\t\t width_shift_range=0.1,\r\n",
        "\t\t\t\t\t\t\t\t\t\t\t\t\t\t\t\t\t height_shift_range=0.1,\r\n",
        "                                   zoom_range=0.11,\r\n",
        "\t\t\t\t\t\t\t\t\t\t\t\t\t\t\t\t\t shear_range=0.12,\r\n",
        "                                   validation_split=0.2,#this is the trick\r\n",
        "                                   vertical_flip=True,\r\n",
        "                                   horizontal_flip=True)\r\n",
        "  else:\r\n",
        "      datagen = ImageDataGenerator(rescale=1./255,validation_split=0.2)\r\n",
        "\r\n",
        "  generator = datagen.flow_from_directory(data_dir,\r\n",
        "                                          target_size=target_size,\r\n",
        "                                          batch_size=batch_size,\r\n",
        "                                          shuffle=shuffle,\r\n",
        "                                          \r\n",
        "                                          class_mode=class_mode,\r\n",
        "                                          subset=subset)\r\n",
        "  return generator"
      ],
      "execution_count": null,
      "outputs": []
    },
    {
      "cell_type": "code",
      "metadata": {
        "colab": {
          "base_uri": "https://localhost:8080/"
        },
        "id": "NfQokUM1Ifio",
        "outputId": "ef9c34a3-0f44-45ff-bb86-04bb21481c00"
      },
      "source": [
        "train_generator = image_data_generator( \"/content/gdrive/My Drive/final/train/r09521227/data\",data_augment=True)"
      ],
      "execution_count": null,
      "outputs": [
        {
          "output_type": "stream",
          "text": [
            "Found 4538 images belonging to 4 classes.\n"
          ],
          "name": "stdout"
        }
      ]
    },
    {
      "cell_type": "code",
      "metadata": {
        "colab": {
          "base_uri": "https://localhost:8080/"
        },
        "id": "VlJ7VVoXImtl",
        "outputId": "471d9871-4ea2-4e9a-b9a2-ca651addca13"
      },
      "source": [
        "validation_generator = image_data_generator( \"/content/gdrive/My Drive/final/train/r09521227/data\",data_augment=False,subset='validation')"
      ],
      "execution_count": null,
      "outputs": [
        {
          "output_type": "stream",
          "text": [
            "Found 1133 images belonging to 4 classes.\n"
          ],
          "name": "stdout"
        }
      ]
    },
    {
      "cell_type": "code",
      "metadata": {
        "id": "SoZR_ry7IoRr"
      },
      "source": [
        "#用 NASNetLarge pretrained model 訓練 人工刪除後的資料\r\n",
        "conv_base=NASNetLarge(weights='imagenet',input_shape=(331,331,3),include_top=False)\r\n",
        "conv_base.trainable=False\r\n",
        "model = models.Sequential()\r\n",
        "model.add(conv_base)\r\n",
        "model.add(layers.Flatten())\r\n",
        "model.add(layers.Dropout(0.5))\r\n",
        "model.add(layers.Dense(4, activation='softmax'))\r\n",
        "model.compile(loss='categorical_crossentropy',\r\n",
        "              optimizer=optimizers.RMSprop(lr=1e-5),\r\n",
        "              metrics=['acc'])"
      ],
      "execution_count": null,
      "outputs": []
    },
    {
      "cell_type": "code",
      "metadata": {
        "colab": {
          "base_uri": "https://localhost:8080/"
        },
        "id": "cvt21WaTJLEb",
        "outputId": "2721fc1a-d0c7-4f8b-bc56-5babd456bdaf"
      },
      "source": [
        "history = model.fit_generator(\r\n",
        "      train_generator,\r\n",
        "      steps_per_epoch=40,\r\n",
        "      epochs=30,\r\n",
        "      validation_data=validation_generator)"
      ],
      "execution_count": null,
      "outputs": [
        {
          "output_type": "stream",
          "text": [
            "/usr/local/lib/python3.6/dist-packages/tensorflow/python/keras/engine/training.py:1844: UserWarning: `Model.fit_generator` is deprecated and will be removed in a future version. Please use `Model.fit`, which supports generators.\n",
            "  warnings.warn('`Model.fit_generator` is deprecated and '\n"
          ],
          "name": "stderr"
        },
        {
          "output_type": "stream",
          "text": [
            "Epoch 1/30\n",
            "40/40 [==============================] - 73s 1s/step - loss: 1.8585 - acc: 0.4414 - val_loss: 0.8440 - val_acc: 0.7043\n",
            "Epoch 2/30\n",
            "40/40 [==============================] - 52s 1s/step - loss: 1.5090 - acc: 0.5606 - val_loss: 0.6582 - val_acc: 0.7793\n",
            "Epoch 3/30\n",
            "40/40 [==============================] - 53s 1s/step - loss: 0.9812 - acc: 0.7098 - val_loss: 0.5872 - val_acc: 0.7820\n",
            "Epoch 4/30\n",
            "40/40 [==============================] - 53s 1s/step - loss: 1.0712 - acc: 0.7093 - val_loss: 0.5234 - val_acc: 0.8111\n",
            "Epoch 5/30\n",
            "40/40 [==============================] - 53s 1s/step - loss: 0.8380 - acc: 0.7363 - val_loss: 0.4930 - val_acc: 0.8358\n",
            "Epoch 6/30\n",
            "40/40 [==============================] - 52s 1s/step - loss: 1.1078 - acc: 0.6857 - val_loss: 0.4675 - val_acc: 0.8376\n",
            "Epoch 7/30\n",
            "40/40 [==============================] - 53s 1s/step - loss: 1.0374 - acc: 0.6976 - val_loss: 0.4455 - val_acc: 0.8367\n",
            "Epoch 8/30\n",
            "40/40 [==============================] - 53s 1s/step - loss: 1.1502 - acc: 0.7114 - val_loss: 0.4815 - val_acc: 0.8358\n",
            "Epoch 9/30\n",
            "40/40 [==============================] - 53s 1s/step - loss: 1.0079 - acc: 0.7382 - val_loss: 0.4800 - val_acc: 0.8341\n",
            "Epoch 10/30\n",
            "40/40 [==============================] - 52s 1s/step - loss: 1.1390 - acc: 0.7121 - val_loss: 0.4907 - val_acc: 0.8438\n",
            "Epoch 11/30\n",
            "40/40 [==============================] - 53s 1s/step - loss: 0.9790 - acc: 0.7259 - val_loss: 0.4811 - val_acc: 0.8385\n",
            "Epoch 12/30\n",
            "40/40 [==============================] - 52s 1s/step - loss: 1.0800 - acc: 0.7629 - val_loss: 0.4930 - val_acc: 0.8297\n",
            "Epoch 13/30\n",
            "40/40 [==============================] - 52s 1s/step - loss: 0.9464 - acc: 0.7505 - val_loss: 0.4693 - val_acc: 0.8376\n",
            "Epoch 14/30\n",
            "40/40 [==============================] - 52s 1s/step - loss: 1.1910 - acc: 0.6874 - val_loss: 0.4793 - val_acc: 0.8464\n",
            "Epoch 15/30\n",
            "40/40 [==============================] - 52s 1s/step - loss: 0.6653 - acc: 0.7921 - val_loss: 0.4649 - val_acc: 0.8482\n",
            "Epoch 16/30\n",
            "40/40 [==============================] - 52s 1s/step - loss: 0.7251 - acc: 0.7862 - val_loss: 0.4512 - val_acc: 0.8464\n",
            "Epoch 17/30\n",
            "40/40 [==============================] - 52s 1s/step - loss: 1.0908 - acc: 0.7117 - val_loss: 0.4560 - val_acc: 0.8332\n",
            "Epoch 18/30\n",
            "40/40 [==============================] - 52s 1s/step - loss: 0.9953 - acc: 0.7826 - val_loss: 0.4514 - val_acc: 0.8526\n",
            "Epoch 19/30\n",
            "40/40 [==============================] - 52s 1s/step - loss: 0.9466 - acc: 0.7195 - val_loss: 0.4711 - val_acc: 0.8500\n",
            "Epoch 20/30\n",
            "39/40 [============================>.] - ETA: 0s - loss: 0.6780 - acc: 0.8487"
          ],
          "name": "stdout"
        }
      ]
    },
    {
      "cell_type": "code",
      "metadata": {
        "id": "k2QruLT5V8ar"
      },
      "source": [
        "model.save('./model/final_large_add.h5')"
      ],
      "execution_count": null,
      "outputs": []
    },
    {
      "cell_type": "code",
      "metadata": {
        "id": "_MkmsHDZJb3Z"
      },
      "source": [
        "#抓取更多資料(2500)後，用Xception 再次訓練\r\n",
        "conv_base = Xception(weights='imagenet', include_top=False, input_shape=(299, 299,3) )\r\n",
        "model = models.Sequential()\r\n",
        "model.add(conv_base)\r\n",
        "model.add(layers.Flatten())\r\n",
        "model.add(layers.Dropout(0.4))\r\n",
        "model.add(layers.Dense(4, activation='softmax'))\r\n",
        "model.compile(loss='categorical_crossentropy',\r\n",
        "              optimizer=optimizers.RMSprop(lr=1e-5),\r\n",
        "              metrics=['acc'])"
      ],
      "execution_count": null,
      "outputs": []
    },
    {
      "cell_type": "code",
      "metadata": {
        "colab": {
          "base_uri": "https://localhost:8080/"
        },
        "id": "1hkkR6p0bn6g",
        "outputId": "e092120c-1649-4f09-dab7-87a086fed3fa"
      },
      "source": [
        "history = model.fit_generator(\r\n",
        "      train_generator,\r\n",
        "      steps_per_epoch=50,\r\n",
        "      epochs=35,\r\n",
        "      validation_data=validation_generator)"
      ],
      "execution_count": null,
      "outputs": [
        {
          "output_type": "stream",
          "text": [
            "/usr/local/lib/python3.6/dist-packages/tensorflow/python/keras/engine/training.py:1844: UserWarning: `Model.fit_generator` is deprecated and will be removed in a future version. Please use `Model.fit`, which supports generators.\n",
            "  warnings.warn('`Model.fit_generator` is deprecated and '\n"
          ],
          "name": "stderr"
        },
        {
          "output_type": "stream",
          "text": [
            "50/50 [==============================] - 78s 2s/step - loss: 1.0358 - acc: 0.8731 - val_loss: 1.0592 - val_acc: 0.8348\n"
          ],
          "name": "stdout"
        }
      ]
    },
    {
      "cell_type": "code",
      "metadata": {
        "colab": {
          "base_uri": "https://localhost:8080/"
        },
        "id": "v30tyavQ5K6a",
        "outputId": "7e0536b2-4f62-4c6a-94a8-b8e617d11f65"
      },
      "source": [
        "submit_dir=\"/content/gdrive/My Drive/final/test_data\"\r\n",
        "submit_datagen = ImageDataGenerator(rescale=1./255)\r\n",
        "generator = submit_datagen.flow_from_directory(\r\n",
        "        submit_dir,\r\n",
        "        class_mode=None,\r\n",
        "        classes=['no'],\r\n",
        "        target_size=(331,331),\r\n",
        "        batch_size=1,\r\n",
        "        shuffle=False)"
      ],
      "execution_count": null,
      "outputs": [
        {
          "output_type": "stream",
          "text": [
            "Found 2000 images belonging to 1 classes.\n"
          ],
          "name": "stdout"
        }
      ]
    },
    {
      "cell_type": "code",
      "metadata": {
        "colab": {
          "base_uri": "https://localhost:8080/"
        },
        "id": "IeDwSQ1MV_T3",
        "outputId": "d2f8275f-f07b-470a-8a08-d39e1fb589fd"
      },
      "source": [
        "pred=model.predict_generator(generator,verbose=1)"
      ],
      "execution_count": null,
      "outputs": [
        {
          "output_type": "stream",
          "text": [
            "/usr/local/lib/python3.6/dist-packages/tensorflow/python/keras/engine/training.py:1905: UserWarning: `Model.predict_generator` is deprecated and will be removed in a future version. Please use `Model.predict`, which supports generators.\n",
            "  warnings.warn('`Model.predict_generator` is deprecated and '\n"
          ],
          "name": "stderr"
        },
        {
          "output_type": "stream",
          "text": [
            "2000/2000 [==============================] - 63s 30ms/step\n"
          ],
          "name": "stdout"
        }
      ]
    },
    {
      "cell_type": "code",
      "metadata": {
        "id": "V7Rdg-fw0SZW"
      },
      "source": [
        "#用 DenseNet201 pre trained model 訓練  只訓練最後頂層 原本資料(完全沒動過)\r\n",
        "conv_base=DenseNet201(weights='imagenet',input_shape=(224,224,3),include_top=False)\r\n",
        "model = models.Sequential()\r\n",
        "conv_base.trainable=False\r\n",
        "model.add(conv_base)\r\n",
        "model.add(layers.Flatten())\r\n",
        "model.add(layers.Dense(32, activation='relu'))\r\n",
        "model.add(layers.Dense(4, activation='sigmoid'))\r\n",
        "model.compile(loss='categorical_crossentropy',\r\n",
        "              optimizer=optimizers.RMSprop(lr=1e-5),\r\n",
        "              metrics=['acc'])"
      ],
      "execution_count": null,
      "outputs": []
    },
    {
      "cell_type": "code",
      "metadata": {
        "id": "c6Nlf32F0tWW"
      },
      "source": [
        "history = model.fit_generator(\r\n",
        "      train_generator,\r\n",
        "      steps_per_epoch=50,\r\n",
        "      epochs=35,\r\n",
        "      validation_data=validation_generator)"
      ],
      "execution_count": null,
      "outputs": []
    },
    {
      "cell_type": "code",
      "metadata": {
        "id": "l-6P6zNT8qLK"
      },
      "source": [
        "#開始 瘋狂亂嘗試 ensemble\r\n",
        "from keras.models import load_model\r\n",
        "model2=load_model('model/final_ception_add.h5')"
      ],
      "execution_count": null,
      "outputs": []
    },
    {
      "cell_type": "code",
      "metadata": {
        "id": "PTJyD0JJ8ZDN"
      },
      "source": [
        "model7=load_model('model/final_large_add.h5')"
      ],
      "execution_count": null,
      "outputs": []
    },
    {
      "cell_type": "code",
      "metadata": {
        "id": "HmorqlbL208R"
      },
      "source": [
        "model3=load_model('model/final_large_2.h5')"
      ],
      "execution_count": null,
      "outputs": []
    },
    {
      "cell_type": "code",
      "metadata": {
        "id": "nc4dDzwHEe0P"
      },
      "source": [
        "model1=load_model('model/final_IncRes.h5')"
      ],
      "execution_count": null,
      "outputs": []
    },
    {
      "cell_type": "code",
      "metadata": {
        "colab": {
          "base_uri": "https://localhost:8080/"
        },
        "id": "jeDgDfQc8_hX",
        "outputId": "ee777695-2915-431e-dd29-7f61ece17ad2"
      },
      "source": [
        "pred_2=model2.predict_generator(generator,verbose=1)"
      ],
      "execution_count": null,
      "outputs": [
        {
          "output_type": "stream",
          "text": [
            "/usr/local/lib/python3.6/dist-packages/tensorflow/python/keras/engine/training.py:1905: UserWarning: `Model.predict_generator` is deprecated and will be removed in a future version. Please use `Model.predict`, which supports generators.\n",
            "  warnings.warn('`Model.predict_generator` is deprecated and '\n"
          ],
          "name": "stderr"
        },
        {
          "output_type": "stream",
          "text": [
            "2000/2000 [==============================] - 605s 299ms/step\n"
          ],
          "name": "stdout"
        }
      ]
    },
    {
      "cell_type": "code",
      "metadata": {
        "colab": {
          "base_uri": "https://localhost:8080/"
        },
        "id": "cJbXZxrkYf-Z",
        "outputId": "1f7d79bb-e2d5-42bd-df57-818a73024ed3"
      },
      "source": [
        "pred_1=model1.predict_generator(generator,verbose=1)"
      ],
      "execution_count": null,
      "outputs": [
        {
          "output_type": "stream",
          "text": [
            "/usr/local/lib/python3.6/dist-packages/tensorflow/python/keras/engine/training.py:1905: UserWarning: `Model.predict_generator` is deprecated and will be removed in a future version. Please use `Model.predict`, which supports generators.\n",
            "  warnings.warn('`Model.predict_generator` is deprecated and '\n"
          ],
          "name": "stderr"
        },
        {
          "output_type": "stream",
          "text": [
            "2000/2000 [==============================] - 62s 30ms/step\n"
          ],
          "name": "stdout"
        }
      ]
    },
    {
      "cell_type": "code",
      "metadata": {
        "colab": {
          "base_uri": "https://localhost:8080/"
        },
        "id": "NCuKDvI525yD",
        "outputId": "048f2259-daa9-4f33-db7c-73169d2c73bc"
      },
      "source": [
        "pred_3=model3.predict_generator(generator,verbose=1)"
      ],
      "execution_count": null,
      "outputs": [
        {
          "output_type": "stream",
          "text": [
            "/usr/local/lib/python3.6/dist-packages/tensorflow/python/keras/engine/training.py:1905: UserWarning: `Model.predict_generator` is deprecated and will be removed in a future version. Please use `Model.predict`, which supports generators.\n",
            "  warnings.warn('`Model.predict_generator` is deprecated and '\n"
          ],
          "name": "stderr"
        },
        {
          "output_type": "stream",
          "text": [
            "2000/2000 [==============================] - 105s 50ms/step\n"
          ],
          "name": "stdout"
        }
      ]
    },
    {
      "cell_type": "code",
      "metadata": {
        "colab": {
          "base_uri": "https://localhost:8080/"
        },
        "id": "VbkBjVxN8eje",
        "outputId": "b4ce28c0-47c4-4c5e-cee5-db9adecccb24"
      },
      "source": [
        "pred_7=model7.predict_generator(generator,verbose=1)"
      ],
      "execution_count": null,
      "outputs": [
        {
          "output_type": "stream",
          "text": [
            "/usr/local/lib/python3.6/dist-packages/tensorflow/python/keras/engine/training.py:1905: UserWarning: `Model.predict_generator` is deprecated and will be removed in a future version. Please use `Model.predict`, which supports generators.\n",
            "  warnings.warn('`Model.predict_generator` is deprecated and '\n"
          ],
          "name": "stderr"
        },
        {
          "output_type": "stream",
          "text": [
            "2000/2000 [==============================] - 106s 51ms/step\n"
          ],
          "name": "stdout"
        }
      ]
    },
    {
      "cell_type": "code",
      "metadata": {
        "id": "6icObwxHRWgT"
      },
      "source": [
        "pred_4=pd.read_csv('prediction.csv')\r\n",
        "pred_4=np.array(pred_4)"
      ],
      "execution_count": null,
      "outputs": []
    },
    {
      "cell_type": "markdown",
      "metadata": {
        "id": "9b7ZVfWEcjJS"
      },
      "source": [
        "1:InResNet 2:Xception 3:large 4:ResNet201\r\n"
      ]
    },
    {
      "cell_type": "code",
      "metadata": {
        "id": "7z51VmrA9Gss"
      },
      "source": [
        "predict1=np.argmax(pred_1+pred_2+pred_3+pred_4+pred_7,axis=1)"
      ],
      "execution_count": null,
      "outputs": []
    },
    {
      "cell_type": "code",
      "metadata": {
        "id": "IWFKvyH3RlXk"
      },
      "source": [
        "predict2=np.argmax(pred_1+pred_2+1.3*pred_3+pred_4+pred_7,axis=1)"
      ],
      "execution_count": null,
      "outputs": []
    },
    {
      "cell_type": "code",
      "metadata": {
        "colab": {
          "base_uri": "https://localhost:8080/"
        },
        "id": "vuc3m8emSds0",
        "outputId": "ad8b0b1a-6fca-4602-9bdc-da0674119d95"
      },
      "source": [
        "#調整權重 觀察預測不一樣的資料\r\n",
        "c=1\r\n",
        "for i,j,k in zip(predict1,predict2,generator.filenames):\r\n",
        "  if i!=j:\r\n",
        "    print(k,j,'to',i)\r\n",
        "    print(c)\r\n",
        "  c+=1"
      ],
      "execution_count": null,
      "outputs": [
        {
          "output_type": "stream",
          "text": [
            "no/1614caff98e4c9c0920f6e06c7a31dbd.jpg 1 to 2\n",
            "168\n",
            "no/18f4af55c78c9777e0ef8383c6b5a64e.jpg 0 to 2\n",
            "191\n",
            "no/1e8b5d14ae1947dcd5a3fa1f39887957.jpg 0 to 2\n",
            "243\n",
            "no/5301cb076bc51a9274cde05ac736c20e.jpg 1 to 2\n",
            "646\n",
            "no/65796192ad98b2c28b21e720b4dcc4ab.jpg 1 to 2\n",
            "787\n",
            "no/704bc43c30e8b7d063db147f1fee4f6a.jpg 1 to 2\n",
            "876\n",
            "no/7c5d24ce6bb504ad7df6ab751a2015e6.jpg 1 to 2\n",
            "966\n",
            "no/80bba2682b770d90036bff3de9c57c93.jpg 3 to 2\n",
            "989\n",
            "no/8632fa3a855f7a16df5e0da3f8c4f1ed.jpg 0 to 2\n",
            "1026\n",
            "no/98d369fecdfa380e47cd5bc502f72f0f.jpg 1 to 2\n",
            "1175\n",
            "no/9fca9f331e18caf0d7511aafa3aaf2bd.jpg 1 to 2\n",
            "1222\n",
            "no/a38b89f97394f2dc8d6efb2171a3bc7b.jpg 0 to 2\n",
            "1255\n",
            "no/b7f55e0a0433845af4beb7456937b1a7.jpg 1 to 2\n",
            "1421\n",
            "no/cec22f532de7fb25f16896ea11f81d16.jpg 1 to 2\n",
            "1618\n",
            "no/d20d349139af3a1c186a9edb098a918f.jpg 0 to 2\n",
            "1647\n",
            "no/d31353732ef001010dda283c4be39067.jpg 1 to 2\n",
            "1654\n",
            "no/e64e5af58a5a48d62914d606611f7be8.jpg 1 to 2\n",
            "1811\n",
            "no/ff7fa83be9eecd0128d185ca6c8b2b87.jpg 0 to 2\n",
            "1995\n"
          ],
          "name": "stdout"
        }
      ]
    },
    {
      "cell_type": "code",
      "metadata": {
        "id": "pAGmD16Q8m6X"
      },
      "source": [
        "#最後輸出\r\n",
        "sample=pd.read_csv('sample_output.csv')\r\n",
        "names=sample['Name']\r\n",
        "submit=pd.DataFrame({'Name':names,'Type':predict1})\r\n",
        "submit.set_index('Name',inplace=True)\r\n",
        "submit.to_csv('submit.csv',index=True)"
      ],
      "execution_count": null,
      "outputs": []
    },
    {
      "cell_type": "code",
      "metadata": {
        "id": "mNk49ZlAcYA2"
      },
      "source": [
        "#最後 model ensemble 形式"
      ],
      "execution_count": null,
      "outputs": []
    },
    {
      "cell_type": "markdown",
      "metadata": {
        "id": "Df2tkgKc5_Ej"
      },
      "source": [
        ""
      ]
    },
    {
      "cell_type": "markdown",
      "metadata": {
        "id": "85N3Eus41t97"
      },
      "source": [
        "1.75*Xception(有加)+large(手動刪除資料)+DenseNet201(原本資料集)+InceptionResNet(有加)+Xception(add2500)"
      ]
    }
  ]
}