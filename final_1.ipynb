{
  "nbformat": 4,
  "nbformat_minor": 0,
  "metadata": {
    "accelerator": "GPU",
    "colab": {
      "name": "final1.ipynb",
      "provenance": [],
      "collapsed_sections": []
    },
    "kernelspec": {
      "display_name": "Python 3",
      "name": "python3"
    }
  },
  "cells": [
    {
      "cell_type": "code",
      "metadata": {
        "colab": {
          "base_uri": "https://localhost:8080/"
        },
        "id": "TsOOzz4uH3wv",
        "outputId": "5b072016-ebee-4e58-c7d9-5a3a30619c35"
      },
      "source": [
        "from google.colab import drive\n",
        "drive.mount('/content/gdrive')"
      ],
      "execution_count": null,
      "outputs": [
        {
          "output_type": "stream",
          "text": [
            "Mounted at /content/gdrive\n"
          ],
          "name": "stdout"
        }
      ]
    },
    {
      "cell_type": "code",
      "metadata": {
        "colab": {
          "base_uri": "https://localhost:8080/"
        },
        "id": "dOwlQ_3rKgC8",
        "outputId": "ac6070c9-a2a1-4b22-c1b5-cf7662d2c9dc"
      },
      "source": [
        "cd gdrive/My Drive"
      ],
      "execution_count": null,
      "outputs": [
        {
          "output_type": "stream",
          "text": [
            "[Errno 2] No such file or directory: 'gdrive/My Drive'\n",
            "/content/gdrive/My Drive\n"
          ],
          "name": "stdout"
        }
      ]
    },
    {
      "cell_type": "code",
      "metadata": {
        "colab": {
          "base_uri": "https://localhost:8080/"
        },
        "id": "i1EcyldOxzYS",
        "outputId": "46ebda2f-a3af-452c-9628-7663ed9682f1"
      },
      "source": [
        "!ls final/train/train_new"
      ],
      "execution_count": null,
      "outputs": [
        {
          "output_type": "stream",
          "text": [
            "0  1  2  3  train\n"
          ],
          "name": "stdout"
        }
      ]
    },
    {
      "cell_type": "code",
      "metadata": {
        "id": "XZH94-s8JtuU"
      },
      "source": [
        "from keras.applications import InceptionV3\n",
        "from keras.preprocessing.image import ImageDataGenerator \n",
        "from keras.models import Sequential\n",
        "from matplotlib import pyplot as plt\n",
        "import numpy as np\n",
        "import pandas as pd\n",
        "import os\n",
        "from skimage import io\n",
        "from skimage.io import imread,imshow\n",
        "from skimage import util\n",
        "from skimage import data,filters\n",
        "from keras.layers import Conv2D,BatchNormalization,Flatten,MaxPool2D,Dropout,Dense\n",
        "from keras import layers,Model,models,optimizers,regularizers\n",
        "from skimage.color import rgb2gray\n",
        "from skimage.color import gray2rgb\n",
        "from skimage.measure import compare_ssim\n",
        "from skimage.transform import resize\n",
        "import shutil\n",
        "from keras.applications import Xception,InceptionV3,ResNet152V2,InceptionResNetV2,ResNet152V2,NASNetLarge,DenseNet201"
      ],
      "execution_count": null,
      "outputs": []
    },
    {
      "cell_type": "code",
      "metadata": {
        "id": "w2vXg6TnJSnR"
      },
      "source": [
        "train_csv=pd.read_csv('train_data.csv')"
      ],
      "execution_count": null,
      "outputs": []
    },
    {
      "cell_type": "code",
      "metadata": {
        "id": "JtzXwUg_J3xM"
      },
      "source": [
        "train_csv.set_index('Name',inplace=True)"
      ],
      "execution_count": null,
      "outputs": []
    },
    {
      "cell_type": "code",
      "metadata": {
        "colab": {
          "base_uri": "https://localhost:8080/"
        },
        "id": "l-k9zVN1XeqW",
        "outputId": "590c279d-729d-47db-e2bb-06566367d5b6"
      },
      "source": [
        "train_csv.value_counts('Type')"
      ],
      "execution_count": null,
      "outputs": [
        {
          "output_type": "execute_result",
          "data": {
            "text/plain": [
              "Type\n",
              "3    2000\n",
              "0    2000\n",
              "2    1200\n",
              "1     800\n",
              "dtype: int64"
            ]
          },
          "metadata": {
            "tags": []
          },
          "execution_count": 15
        }
      ]
    },
    {
      "cell_type": "code",
      "metadata": {
        "id": "sORKmElDOSyE"
      },
      "source": [
        "#分類 train\n",
        "for i in train_csv.index:\n",
        "  path='/content/gdrive/My Drive/final/train/train_new/train/'+i\n",
        "  if train_csv.loc[i,'Type']== 0:\n",
        "    shutil.move(path, '/content/gdrive/My Drive/final/train/train_new/0')\n",
        "  elif train_csv.loc[i,'Type']== 1:\n",
        "    shutil.move(path, '/content/gdrive/My Drive/final/train/train_new/1')\n",
        "  elif train_csv.loc[i,'Type']== 2:\n",
        "    shutil.move(path, '/content/gdrive/My Drive/final/train/train_new/2')\n",
        "  elif train_csv.loc[i,'Type']== 3:\n",
        "    shutil.move(path, '/content/gdrive/My Drive/final/train/train_new/3')"
      ],
      "execution_count": null,
      "outputs": []
    },
    {
      "cell_type": "code",
      "metadata": {
        "id": "XDu9FNAMK6z5"
      },
      "source": [
        "#自己建立 CNN\n",
        "model = models.Sequential()\n",
        "model.add(layers.Conv2D(32, (3, 3), activation='relu',\n",
        "                        input_shape=(224, 224, 3)))\n",
        "model.add(layers.MaxPooling2D((2, 2)))\n",
        "model.add(layers.Conv2D(64, (3, 3), activation='relu'))\n",
        "model.add(layers.MaxPooling2D((2, 2)))\n",
        "model.add(layers.Flatten())\n",
        "model.add(layers.Dense(324, activation='relu'))\n",
        "model.add(layers.Dense(4, activation='softmax'))\n",
        "model.compile(loss='categorical_crossentropy',\n",
        "              optimizer='adam',\n",
        "              metrics=['acc'])"
      ],
      "execution_count": null,
      "outputs": []
    },
    {
      "cell_type": "code",
      "metadata": {
        "colab": {
          "base_uri": "https://localhost:8080/"
        },
        "id": "SJhZu5dx6xWD",
        "outputId": "b55fd0e9-0889-4966-9d13-56008ea8681b"
      },
      "source": [
        "model.summary()"
      ],
      "execution_count": null,
      "outputs": [
        {
          "output_type": "stream",
          "text": [
            "Model: \"sequential_4\"\n",
            "_________________________________________________________________\n",
            "Layer (type)                 Output Shape              Param #   \n",
            "=================================================================\n",
            "conv2d_14 (Conv2D)           (None, 222, 222, 32)      896       \n",
            "_________________________________________________________________\n",
            "max_pooling2d_14 (MaxPooling (None, 111, 111, 32)      0         \n",
            "_________________________________________________________________\n",
            "conv2d_15 (Conv2D)           (None, 109, 109, 64)      18496     \n",
            "_________________________________________________________________\n",
            "max_pooling2d_15 (MaxPooling (None, 54, 54, 64)        0         \n",
            "_________________________________________________________________\n",
            "flatten_4 (Flatten)          (None, 186624)            0         \n",
            "_________________________________________________________________\n",
            "dense_8 (Dense)              (None, 324)               60466500  \n",
            "_________________________________________________________________\n",
            "dense_9 (Dense)              (None, 4)                 1300      \n",
            "=================================================================\n",
            "Total params: 60,487,192\n",
            "Trainable params: 60,487,192\n",
            "Non-trainable params: 0\n",
            "_________________________________________________________________\n"
          ],
          "name": "stdout"
        }
      ]
    },
    {
      "cell_type": "code",
      "metadata": {
        "id": "D0hmXpuP8pI_"
      },
      "source": [
        "#更改 數遽增幅參數\n",
        "def image_data_generator(data_dir,data_augment=False,\n",
        "                       batch_size=32,\n",
        "                       target_size=(299, 299),\n",
        "                       class_mode='categorical',\n",
        "                       subset='training',\n",
        "                       shuffle=True):\n",
        "  if data_augment:\n",
        "      datagen = ImageDataGenerator(rescale=1./255,\n",
        "                                   rotation_range=10,\n",
        "\t\t\t\t\t\t\t\t\t\t\t\t\t\t\t\t\t width_shift_range=0.1,\n",
        "\t\t\t\t\t\t\t\t\t\t\t\t\t\t\t\t\t height_shift_range=0.1,\n",
        "                                   zoom_range=0.11,\n",
        "\t\t\t\t\t\t\t\t\t\t\t\t\t\t\t\t\t shear_range=0.12,\n",
        "                                   validation_split=0.15,\n",
        "                                   vertical_flip=True,\n",
        "                                   horizontal_flip=True)\n",
        "  else:\n",
        "      datagen = ImageDataGenerator(rescale=1./255,validation_split=0.15)\n",
        "\n",
        "  generator = datagen.flow_from_directory(data_dir,\n",
        "                                          target_size=target_size,\n",
        "                                          batch_size=batch_size,\n",
        "                                          shuffle=shuffle,\n",
        "                                          \n",
        "                                          class_mode=class_mode,\n",
        "                                          subset=subset)\n",
        "  return generator"
      ],
      "execution_count": null,
      "outputs": []
    },
    {
      "cell_type": "code",
      "metadata": {
        "colab": {
          "base_uri": "https://localhost:8080/"
        },
        "id": "uFMzpQuj9JMQ",
        "outputId": "5993fc43-927c-4cd6-fd93-04856c2a6410"
      },
      "source": [
        "train_generator = image_data_generator( \"/content/gdrive/My Drive/final/train/train\",data_augment=True)"
      ],
      "execution_count": null,
      "outputs": [
        {
          "output_type": "stream",
          "text": [
            "Found 4798 images belonging to 4 classes.\n"
          ],
          "name": "stdout"
        }
      ]
    },
    {
      "cell_type": "code",
      "metadata": {
        "colab": {
          "base_uri": "https://localhost:8080/"
        },
        "id": "aT0kilOn_ZeQ",
        "outputId": "7d8e9a74-f28f-4204-fa45-dd5190100c74"
      },
      "source": [
        "validation_generator = image_data_generator( \"/content/gdrive/My Drive/final/train/train\",data_augment=False,subset='validation')"
      ],
      "execution_count": null,
      "outputs": [
        {
          "output_type": "stream",
          "text": [
            "Found 1198 images belonging to 4 classes.\n"
          ],
          "name": "stdout"
        }
      ]
    },
    {
      "cell_type": "code",
      "metadata": {
        "colab": {
          "base_uri": "https://localhost:8080/"
        },
        "id": "LyJHWnLORRtz",
        "outputId": "9add1492-18ab-46f2-8822-05edf80f0889"
      },
      "source": [
        "train_generator.class_indices"
      ],
      "execution_count": null,
      "outputs": [
        {
          "output_type": "execute_result",
          "data": {
            "text/plain": [
              "{'0': 0, '1': 1, '2': 2, '3': 3}"
            ]
          },
          "metadata": {
            "tags": []
          },
          "execution_count": 25
        }
      ]
    },
    {
      "cell_type": "code",
      "metadata": {
        "id": "EDF2ObXO3O4l"
      },
      "source": [
        "#pre trained model Xception , input shape:(299,299,3) , 一層Dropout(0.5)防止過擬合,output用 sortmax activation\n",
        "from keras.applications.xception import Xception\n",
        "conv_base = Xception(weights='imagenet', include_top=False, input_shape=(299, 299, 3)) \n",
        "model = models.Sequential()\n",
        "model.add(conv_base)\n",
        "model.add(layers.Flatten())\n",
        "model.add(layers.Dropout(0.5))\n",
        "model.add(layers.Dense(4, activation='softmax'))\n",
        "model.compile(loss='categorical_crossentropy',\n",
        "              optimizer=optimizers.RMSprop(lr=1e-5),\n",
        "              metrics=['acc'])"
      ],
      "execution_count": null,
      "outputs": []
    },
    {
      "cell_type": "code",
      "metadata": {
        "colab": {
          "base_uri": "https://localhost:8080/"
        },
        "id": "voveOA-CnUnO",
        "outputId": "88d01168-0584-413b-ba18-a1b1e6962b5f"
      },
      "source": [
        "model.summary()"
      ],
      "execution_count": null,
      "outputs": [
        {
          "output_type": "stream",
          "text": [
            "Model: \"sequential_13\"\n",
            "_________________________________________________________________\n",
            "Layer (type)                 Output Shape              Param #   \n",
            "=================================================================\n",
            "xception (Functional)        (None, 10, 10, 2048)      20861480  \n",
            "_________________________________________________________________\n",
            "flatten_3 (Flatten)          (None, 204800)            0         \n",
            "_________________________________________________________________\n",
            "dropout_5 (Dropout)          (None, 204800)            0         \n",
            "_________________________________________________________________\n",
            "dense_6 (Dense)              (None, 4)                 819204    \n",
            "=================================================================\n",
            "Total params: 21,680,684\n",
            "Trainable params: 21,626,156\n",
            "Non-trainable params: 54,528\n",
            "_________________________________________________________________\n"
          ],
          "name": "stdout"
        }
      ]
    },
    {
      "cell_type": "code",
      "metadata": {
        "colab": {
          "base_uri": "https://localhost:8080/"
        },
        "id": "xE8wDWaSjzE0",
        "outputId": "6e39956f-e715-478d-de57-2b3028aa8946"
      },
      "source": [
        "train_generator = image_data_generator( \"/content/gdrive/My Drive/final/train/train\",data_augment=True)"
      ],
      "execution_count": null,
      "outputs": [
        {
          "output_type": "stream",
          "text": [
            "Found 4798 images belonging to 4 classes.\n"
          ],
          "name": "stdout"
        }
      ]
    },
    {
      "cell_type": "code",
      "metadata": {
        "colab": {
          "base_uri": "https://localhost:8080/"
        },
        "id": "2zMToicVj_12",
        "outputId": "c08a5811-a125-4b89-bea2-9f0d7030aedf"
      },
      "source": [
        "validation_generator = image_data_generator( \"/content/gdrive/My Drive/final/train/train\",data_augment=False,subset='validation')"
      ],
      "execution_count": null,
      "outputs": [
        {
          "output_type": "stream",
          "text": [
            "Found 1198 images belonging to 4 classes.\n"
          ],
          "name": "stdout"
        }
      ]
    },
    {
      "cell_type": "code",
      "metadata": {
        "id": "G6n4vXMekJwN"
      },
      "source": [
        "#pb 0.78 model\n",
        "history = model.fit_generator(\n",
        "      train_generator,\n",
        "      steps_per_epoch=50,\n",
        "      epochs=30,\n",
        "      validation_data=validation_generator)"
      ],
      "execution_count": null,
      "outputs": []
    },
    {
      "cell_type": "code",
      "metadata": {
        "id": "rtBFaBFk01hl"
      },
      "source": [
        "#儲存 Xception val 0.84 pb 0.78\n",
        "model.save('model/final_ception_1.h5')"
      ],
      "execution_count": null,
      "outputs": []
    },
    {
      "cell_type": "code",
      "metadata": {
        "colab": {
          "base_uri": "https://localhost:8080/"
        },
        "id": "3Ji7zLCYN5xX",
        "outputId": "251756bd-f913-4c28-da03-e18c026d9cd1"
      },
      "source": [
        "retrain_datagen = ImageDataGenerator(rescale=1./255)\r\n",
        "generator = retrain_datagen.flow_from_directory(\r\n",
        "        train_dir,\r\n",
        "        class_mode=None,\r\n",
        "        target_size=(299,299),\r\n",
        "        batch_size=1,\r\n",
        "        shuffle=False)"
      ],
      "execution_count": null,
      "outputs": [
        {
          "output_type": "stream",
          "text": [
            "Found 5996 images belonging to 4 classes.\n"
          ],
          "name": "stdout"
        }
      ]
    },
    {
      "cell_type": "code",
      "metadata": {
        "colab": {
          "base_uri": "https://localhost:8080/"
        },
        "id": "Ez8KFdkuz8b6",
        "outputId": "99b2562b-8048-473d-edad-5dbd9a99f4d7"
      },
      "source": [
        "generator.class_indices"
      ],
      "execution_count": null,
      "outputs": [
        {
          "output_type": "execute_result",
          "data": {
            "text/plain": [
              "{'0': 0, '1': 1, '2': 2, '3': 3}"
            ]
          },
          "metadata": {
            "tags": []
          },
          "execution_count": 14
        }
      ]
    },
    {
      "cell_type": "code",
      "metadata": {
        "colab": {
          "base_uri": "https://localhost:8080/"
        },
        "id": "SLN9Pine0bnE",
        "outputId": "8579cfbc-6b32-4595-a31a-ae14c5706372"
      },
      "source": [
        "pred=model.predict_generator(generator,verbose=1)"
      ],
      "execution_count": null,
      "outputs": [
        {
          "output_type": "stream",
          "text": [
            "WARNING:tensorflow:From <ipython-input-15-0f518bd53bad>:1: Model.predict_generator (from tensorflow.python.keras.engine.training) is deprecated and will be removed in a future version.\n",
            "Instructions for updating:\n",
            "Please use Model.predict, which supports generators.\n",
            "5996/5996 [==============================] - 1133s 189ms/step\n"
          ],
          "name": "stdout"
        }
      ]
    },
    {
      "cell_type": "code",
      "metadata": {
        "id": "0R40PHty5WzT"
      },
      "source": [
        "predict=np.argmax(pred,axis=1)"
      ],
      "execution_count": null,
      "outputs": []
    },
    {
      "cell_type": "code",
      "metadata": {
        "id": "igk36XT00vQ6"
      },
      "source": [
        "# 用 model 預測 train 檔 機率大於0.8移動Label\r\n",
        "index=0\r\n",
        "c=0\r\n",
        "for name,label in zip(generator.filenames,predict):\r\n",
        "  real_label=int(name[0])\r\n",
        "  if real_label != label and pred[index][label]>0.8:\r\n",
        "    c+=1\r\n",
        "    print(name)\r\n",
        "    print('real',real_label)\r\n",
        "    print('pred',label)\r\n",
        "    print(pred[index])\r\n",
        "    print('-----------------')\r\n",
        "    shutil.move(\"/content/gdrive/My Drive/final/train/train/\"+name,'/content/gdrive/My Drive/final/train/train/'+str(label)+'/'+name[2:])\r\n",
        "  index+=1"
      ],
      "execution_count": null,
      "outputs": []
    },
    {
      "cell_type": "code",
      "metadata": {
        "colab": {
          "base_uri": "https://localhost:8080/"
        },
        "id": "ZZQ1BXQj-cfE",
        "outputId": "3dc38e0c-96af-40a2-8b90-5ac8be9657ac"
      },
      "source": [
        "train_generator = image_data_generator( \"/content/gdrive/My Drive/final/train/train\",data_augment=True)"
      ],
      "execution_count": null,
      "outputs": [
        {
          "output_type": "stream",
          "text": [
            "Found 9349 images belonging to 4 classes.\n"
          ],
          "name": "stdout"
        }
      ]
    },
    {
      "cell_type": "code",
      "metadata": {
        "colab": {
          "base_uri": "https://localhost:8080/"
        },
        "id": "xX93fM6OACf4",
        "outputId": "edbcb33c-c343-4f78-dfbf-b379379787fb"
      },
      "source": [
        "validation_generator = image_data_generator( \"/content/gdrive/My Drive/final/train/train\",data_augment=False,subset='validation')"
      ],
      "execution_count": null,
      "outputs": [
        {
          "output_type": "stream",
          "text": [
            "Found 1646 images belonging to 4 classes.\n"
          ],
          "name": "stdout"
        }
      ]
    },
    {
      "cell_type": "code",
      "metadata": {
        "colab": {
          "base_uri": "https://localhost:8080/"
        },
        "id": "eeeHSi9yADW0",
        "outputId": "99dca46f-9996-4657-bf12-5c2deb7e35a9"
      },
      "source": [
        "# 用新資料重新訓練 model\r\n",
        "conv_base = Xception(weights='imagenet', include_top=False, input_shape=(299, 299,3) )\r\n",
        "model = models.Sequential()\r\n",
        "model.add(conv_base)\r\n",
        "model.add(layers.Flatten())\r\n",
        "model.add(layers.Dropout(0.5))\r\n",
        "model.add(layers.Dense(32, activation='relu'))\r\n",
        "model.add(layers.Dense(4, activation='softmax'))\r\n",
        "model.compile(loss='categorical_crossentropy',\r\n",
        "              optimizer=optimizers.RMSprop(lr=1e-5),\r\n",
        "              metrics=['acc'])"
      ],
      "execution_count": null,
      "outputs": [
        {
          "output_type": "stream",
          "text": [
            "Downloading data from https://storage.googleapis.com/tensorflow/keras-applications/xception/xception_weights_tf_dim_ordering_tf_kernels_notop.h5\n",
            "83689472/83683744 [==============================] - 1s 0us/step\n"
          ],
          "name": "stdout"
        }
      ]
    },
    {
      "cell_type": "code",
      "metadata": {
        "colab": {
          "base_uri": "https://localhost:8080/"
        },
        "id": "bMV-4wo9AskA",
        "outputId": "5ac36a31-b6ee-4647-ec6a-7bcbbe0594e4"
      },
      "source": [
        "# pb 0.79\r\n",
        "history = model.fit_generator(\r\n",
        "      train_generator,\r\n",
        "      steps_per_epoch=50,\r\n",
        "      epochs=1,\r\n",
        "      validation_data=validation_generator)"
      ],
      "execution_count": null,
      "outputs": [
        {
          "output_type": "stream",
          "text": [
            "50/50 [==============================] - 80s 2s/step - loss: 1.0919 - acc: 0.8963 - val_loss: 1.1055 - val_acc: 0.8822\n"
          ],
          "name": "stdout"
        }
      ]
    },
    {
      "cell_type": "code",
      "metadata": {
        "id": "eZDHPePzYWVt"
      },
      "source": [
        "conv_base = Xception(weights='imagenet', include_top=False, input_shape=(299, 299,3) )\r\n",
        "model = models.Sequential()\r\n",
        "model.add(conv_base)\r\n",
        "model.add(layers.Flatten())\r\n",
        "model.add(layers.Dropout(0.4))\r\n",
        "model.add(layers.Dense(4, activation='softmax'))\r\n",
        "model.compile(loss='categorical_crossentropy',\r\n",
        "              optimizer=optimizers.RMSprop(lr=1e-5),\r\n",
        "              metrics=['acc'])"
      ],
      "execution_count": null,
      "outputs": []
    },
    {
      "cell_type": "code",
      "metadata": {
        "id": "6hyj8-yLYf0_"
      },
      "source": [
        "history = model.fit_generator(\r\n",
        "      train_generator,\r\n",
        "      steps_per_epoch=50,\r\n",
        "      epochs=35,\r\n",
        "      validation_data=validation_generator)"
      ],
      "execution_count": null,
      "outputs": []
    },
    {
      "cell_type": "code",
      "metadata": {
        "colab": {
          "base_uri": "https://localhost:8080/"
        },
        "id": "5La3Nk9rQ9Xa",
        "outputId": "4ba7a686-fbaf-4d23-c99b-5758d8eaddae"
      },
      "source": [
        "#預測test檔案\r\n",
        "submit_dir=\"/content/gdrive/My Drive/final/test_data\"\r\n",
        "submit_datagen = ImageDataGenerator(rescale=1./255)\r\n",
        "generator = submit_datagen.flow_from_directory(\r\n",
        "        submit_dir,\r\n",
        "        class_mode=None,\r\n",
        "        classes=['no'],\r\n",
        "        target_size=(299,299),\r\n",
        "        batch_size=1,\r\n",
        "        shuffle=False)"
      ],
      "execution_count": null,
      "outputs": [
        {
          "output_type": "stream",
          "text": [
            "Found 2000 images belonging to 1 classes.\n"
          ],
          "name": "stdout"
        }
      ]
    },
    {
      "cell_type": "code",
      "metadata": {
        "colab": {
          "base_uri": "https://localhost:8080/"
        },
        "id": "uXSCaKLqRO96",
        "outputId": "2c3013ad-03cc-4351-889d-09ea1a5f97db"
      },
      "source": [
        "pred=model.predict_generator(generator,verbose=1)\r\n",
        "predict=np.argmax(pred,axis=1)"
      ],
      "execution_count": null,
      "outputs": [
        {
          "output_type": "stream",
          "text": [
            "/usr/local/lib/python3.6/dist-packages/tensorflow/python/keras/engine/training.py:1905: UserWarning: `Model.predict_generator` is deprecated and will be removed in a future version. Please use `Model.predict`, which supports generators.\n",
            "  warnings.warn('`Model.predict_generator` is deprecated and '\n"
          ],
          "name": "stderr"
        },
        {
          "output_type": "stream",
          "text": [
            "2000/2000 [==============================] - 571s 285ms/step\n"
          ],
          "name": "stdout"
        }
      ]
    },
    {
      "cell_type": "code",
      "metadata": {
        "colab": {
          "base_uri": "https://localhost:8080/"
        },
        "id": "_2rz03fLUiWr",
        "outputId": "f760a831-b41a-48f5-de3f-f95416c2fdd7"
      },
      "source": [
        "predict"
      ],
      "execution_count": null,
      "outputs": [
        {
          "output_type": "execute_result",
          "data": {
            "text/plain": [
              "array([3, 1, 0, ..., 3, 3, 0])"
            ]
          },
          "metadata": {
            "tags": []
          },
          "execution_count": 20
        }
      ]
    },
    {
      "cell_type": "code",
      "metadata": {
        "id": "LrxcG9sWRfva"
      },
      "source": [
        "#輸出\r\n",
        "sample=pd.read_csv('sample_output.csv')\r\n",
        "names=sample['Name']\r\n",
        "submit=pd.DataFrame({'Name':names,'Type':predict})\r\n",
        "submit.set_index('Name',inplace=True)\r\n",
        "submit.to_csv('submit.csv',index=True)"
      ],
      "execution_count": null,
      "outputs": []
    },
    {
      "cell_type": "code",
      "metadata": {
        "id": "3euDO4V-cO_v"
      },
      "source": [
        "model.save('model/final_ception_new.h5')"
      ],
      "execution_count": null,
      "outputs": []
    },
    {
      "cell_type": "code",
      "metadata": {
        "colab": {
          "base_uri": "https://localhost:8080/"
        },
        "id": "KLe8xhokcmBf",
        "outputId": "5469c3c2-9d66-4764-dab5-499dbc317998"
      },
      "source": [
        "pred_add=model_add.predict_generator(generator,verbose=1)"
      ],
      "execution_count": null,
      "outputs": [
        {
          "output_type": "stream",
          "text": [
            "/usr/local/lib/python3.6/dist-packages/tensorflow/python/keras/engine/training.py:1905: UserWarning: `Model.predict_generator` is deprecated and will be removed in a future version. Please use `Model.predict`, which supports generators.\n",
            "  warnings.warn('`Model.predict_generator` is deprecated and '\n"
          ],
          "name": "stderr"
        },
        {
          "output_type": "stream",
          "text": [
            "2000/2000 [==============================] - 33s 16ms/step\n"
          ],
          "name": "stdout"
        }
      ]
    },
    {
      "cell_type": "code",
      "metadata": {
        "id": "GNqZOmBoc5lM"
      },
      "source": [
        "predict_mix=np.argmax(pred+pred_add,axis=1)"
      ],
      "execution_count": null,
      "outputs": []
    },
    {
      "cell_type": "code",
      "metadata": {
        "id": "XJeAR1xzc6jh"
      },
      "source": [
        "sample=pd.read_csv('sample_output.csv')\r\n",
        "names=sample['Name']\r\n",
        "submit=pd.DataFrame({'Name':names,'Type':predict_mix})\r\n",
        "submit.set_index('Name',inplace=True)\r\n",
        "submit.to_csv('submit.csv',index=True)"
      ],
      "execution_count": null,
      "outputs": []
    },
    {
      "cell_type": "code",
      "metadata": {
        "id": "AmFwWTH3yCva"
      },
      "source": [
        "#開始自行抓取資料\r\n",
        "header = {\r\n",
        "    'if-none-match-': '55b03-634508b9798ba9f4e118b697a946c895',\r\n",
        "    'User-Agent':'Googlebot',\r\n",
        "}"
      ],
      "execution_count": null,
      "outputs": []
    },
    {
      "cell_type": "code",
      "metadata": {
        "id": "IonGs3ovxVG4"
      },
      "source": [
        "url=\"https://shopee.tw/search?facet=2561%2C2560%2C1533%2C2573%2C14278&keyword=%E5%86%AC%E5%AD%A3%E8%A1%A3%E6%9C%8D&noCorrection=true&page=0\"\r\n",
        "res=requests.get(url,headers=header)"
      ],
      "execution_count": null,
      "outputs": []
    },
    {
      "cell_type": "code",
      "metadata": {
        "id": "AHqNgRRb01sD"
      },
      "source": [
        "soup = BeautifulSoup(res.text, 'html.parser')\r\n",
        "items = soup.find_all(\"img\", class_=\"_1T9dHf V1Fpl5\")"
      ],
      "execution_count": null,
      "outputs": []
    },
    {
      "cell_type": "code",
      "metadata": {
        "id": "HVuLV4fhAUG2"
      },
      "source": [
        "for page in range(20):\r\n",
        "  url=\"https://shopee.tw/search?facet=100%2C2561%2C1487%2C2560%2C1533%2C2573%2C14278&keyword=%E5%86%AC%E5%AD%A3%E8%A1%A3%E6%9C%8D&noCorrection=true&page=\"+str(page)\r\n",
        "  res=requests.get(url,headers=header).text\r\n",
        "  soup = BeautifulSoup(res, 'html.parser')\r\n",
        "  items = soup.find_all(\"img\", class_=\"_1T9dHf V1Fpl5\")\r\n",
        "  for index,img in enumerate(items):\r\n",
        "    img_dir=img.get('src')\r\n",
        "    img_con=requests.get(img_dir)\r\n",
        "    with open('./final/train/r09521227/data/0/'+'add_'+str(page)+'_'+str(index)+\".jpg\", \"wb\") as file:  \r\n",
        "      file.write(img_con.content)"
      ],
      "execution_count": null,
      "outputs": []
    },
    {
      "cell_type": "code",
      "metadata": {
        "id": "Bk15dZeCHEsR"
      },
      "source": [
        "for page in range(42):\r\n",
        "  url=\"https://shopee.tw/search?facet=100%2C1473%2C1475%2C2165%2C1611%2C1477%2C1521&keyword=%E5%A4%8F%E5%AD%A3%E8%A1%A3%E6%9C%8D&noCorrection=true&page=\"+str(page)\r\n",
        "  res=requests.get(url,headers=header).text\r\n",
        "  soup = BeautifulSoup(res, 'html.parser')\r\n",
        "  items = soup.find_all(\"img\", class_=\"_1T9dHf V1Fpl5\")\r\n",
        "  for index,img in enumerate(items):\r\n",
        "    img_dir=img.get('src')\r\n",
        "    img_con=requests.get(img_dir)\r\n",
        "    with open('./final/train/r09521227/data/1/'+'add_'+str(page)+'_'+str(index)+\".jpg\", \"wb\") as file:  # 開啟資料夾及命名圖片檔\r\n",
        "      file.write(img_con.content)"
      ],
      "execution_count": null,
      "outputs": []
    },
    {
      "cell_type": "code",
      "metadata": {
        "id": "znoFqjf7MyUS"
      },
      "source": [
        "for page in range(38):\r\n",
        "  url=\"https://shopee.tw/search?facet=9301%2C100%2C1485%2C1477&keyword=%E8%A3%99%E5%AD%90&noCorrection=true&page=\"+str(page)\r\n",
        "  res=requests.get(url,headers=header).text\r\n",
        "  soup = BeautifulSoup(res, 'html.parser')\r\n",
        "  items = soup.find_all(\"img\", class_=\"_1T9dHf V1Fpl5\")\r\n",
        "  for index,img in enumerate(items):\r\n",
        "    img_dir=img.get('src')\r\n",
        "    img_con=requests.get(img_dir)\r\n",
        "    with open('./final/train/r09521227/data/2/'+'add_'+str(page)+'_'+str(index)+\".jpg\", \"wb\") as file:  # 開啟資料夾及命名圖片檔\r\n",
        "      file.write(img_con.content)"
      ],
      "execution_count": null,
      "outputs": []
    },
    {
      "cell_type": "code",
      "metadata": {
        "id": "4ZW7jzjYOItt"
      },
      "source": [
        "for page in range(22):\r\n",
        "  url=\"https://shopee.tw/search?facet=1539%2C1527%2C1481%2C7649&keyword=%E7%89%9B%E4%BB%94%E8%A4%B2&noCorrection=true&page=\"+str(page)\r\n",
        "  res=requests.get(url,headers=header).text\r\n",
        "  soup = BeautifulSoup(res, 'html.parser')\r\n",
        "  items = soup.find_all(\"img\", class_=\"_1T9dHf V1Fpl5\")\r\n",
        "  for index,img in enumerate(items):\r\n",
        "    img_dir=img.get('src')\r\n",
        "    img_con=requests.get(img_dir)\r\n",
        "    with open('./final/train/r09521227/data/3/'+'add_'+str(page)+'_'+str(index)+\".jpg\", \"wb\") as file:  # 開啟資料夾及命名圖片檔\r\n",
        "      file.write(img_con.content)"
      ],
      "execution_count": null,
      "outputs": []
    },
    {
      "cell_type": "code",
      "metadata": {
        "id": "UxEiDjLyT0D8"
      },
      "source": [
        "print(len(os.listdir('/content/gdrive/My Drive/final/train/train_add/0')))\r\n",
        "print(len(os.listdir('/content/gdrive/My Drive/final/train/train_add/1')))\r\n",
        "print(len(os.listdir('/content/gdrive/My Drive/final/train/train_add/2')))\r\n",
        "print(len(os.listdir('/content/gdrive/My Drive/final/train/train_add/3')))"
      ],
      "execution_count": null,
      "outputs": []
    },
    {
      "cell_type": "code",
      "metadata": {
        "colab": {
          "base_uri": "https://localhost:8080/"
        },
        "id": "BtVfBcsRpgyd",
        "outputId": "a2d61647-029a-4244-ef8c-ee76924a4429"
      },
      "source": [
        "train_generator = image_data_generator( \"/content/gdrive/My Drive/final/train/r09521227/data\",data_augment=True)"
      ],
      "execution_count": null,
      "outputs": [
        {
          "output_type": "stream",
          "text": [
            "Found 10007 images belonging to 4 classes.\n"
          ],
          "name": "stdout"
        }
      ]
    },
    {
      "cell_type": "code",
      "metadata": {
        "colab": {
          "base_uri": "https://localhost:8080/"
        },
        "id": "G1sEqfp_pwpt",
        "outputId": "091ae322-688c-49cf-ee2c-f2ec51a0509a"
      },
      "source": [
        "validation_generator = image_data_generator( \"/content/gdrive/My Drive/final/train/r09521227/data\",data_augment=False,subset='validation')"
      ],
      "execution_count": null,
      "outputs": [
        {
          "output_type": "stream",
          "text": [
            "Found 1764 images belonging to 4 classes.\n"
          ],
          "name": "stdout"
        }
      ]
    },
    {
      "cell_type": "code",
      "metadata": {
        "id": "B1h2x08ypzSj"
      },
      "source": [
        "#再次訓練\r\n",
        "conv_base = Xception(weights='imagenet', include_top=False, input_shape=(299, 299,3) )\r\n",
        "model = models.Sequential()\r\n",
        "model.add(conv_base)\r\n",
        "model.add(layers.Flatten())\r\n",
        "model.add(layers.Dropout(0.5))\r\n",
        "model.add(layers.Dense(4, activation='softmax'))\r\n",
        "model.compile(loss='categorical_crossentropy',\r\n",
        "              optimizer=optimizers.RMSprop(lr=1e-5),\r\n",
        "              metrics=['acc'])"
      ],
      "execution_count": null,
      "outputs": []
    },
    {
      "cell_type": "code",
      "metadata": {
        "id": "Zq-r1eninHMu"
      },
      "source": [
        "#使用另一pre trained model訓練\r\n",
        "conv_base = InceptionV3(weights='imagenet', include_top=False, input_shape=(299, 299,3) )\r\n",
        "model = models.Sequential()\r\n",
        "model.add(conv_base)\r\n",
        "model.add(layers.Flatten())\r\n",
        "model.add(layers.Dropout(0.2))\r\n",
        "model.add(layers.Dense(32, activation='relu'))\r\n",
        "model.add(layers.Dense(4, activation='softmax'))\r\n",
        "model.compile(loss='categorical_crossentropy',\r\n",
        "              optimizer=optimizers.RMSprop(lr=1e-5),\r\n",
        "              metrics=['acc'])"
      ],
      "execution_count": null,
      "outputs": []
    },
    {
      "cell_type": "code",
      "metadata": {
        "id": "rAM14BkvqDhz"
      },
      "source": [
        "history = model.fit_generator(\r\n",
        "      train_generator,\r\n",
        "      steps_per_epoch=50,\r\n",
        "      epochs=35,\r\n",
        "      validation_data=validation_generator)"
      ],
      "execution_count": null,
      "outputs": []
    },
    {
      "cell_type": "code",
      "metadata": {
        "colab": {
          "base_uri": "https://localhost:8080/"
        },
        "id": "lf9USh1YqLGK",
        "outputId": "812cb004-0536-48aa-a096-d7bed891773a"
      },
      "source": [
        "pred=model.predict_generator(generator,verbose=1)\r\n",
        "predict=np.argmax(pred,axis=1)"
      ],
      "execution_count": null,
      "outputs": [
        {
          "output_type": "stream",
          "text": [
            "/usr/local/lib/python3.6/dist-packages/tensorflow/python/keras/engine/training.py:1905: UserWarning: `Model.predict_generator` is deprecated and will be removed in a future version. Please use `Model.predict`, which supports generators.\n",
            "  warnings.warn('`Model.predict_generator` is deprecated and '\n"
          ],
          "name": "stderr"
        },
        {
          "output_type": "stream",
          "text": [
            "2000/2000 [==============================] - 611s 305ms/step\n"
          ],
          "name": "stdout"
        }
      ]
    },
    {
      "cell_type": "code",
      "metadata": {
        "id": "uOwVYcq5_WLX"
      },
      "source": [
        "sample=pd.read_csv('sample_output.csv')\r\n",
        "names=sample['Name']\r\n",
        "submit=pd.DataFrame({'Name':names,'Type':predict})\r\n",
        "submit.set_index('Name',inplace=True)\r\n",
        "submit.to_csv('submit.csv',index=True)"
      ],
      "execution_count": null,
      "outputs": []
    },
    {
      "cell_type": "code",
      "metadata": {
        "id": "KbCeUDlYDKr-"
      },
      "source": [
        "for name in os.listdir('/content/gdrive/My Drive/final/train/r09521227/3_copy'):\r\n",
        "  shutil.move(os.path.join('/content/gdrive/My Drive/final/train/r09521227/3_copy',name),'/content/gdrive/My Drive/final/train/train_add/3')\r\n"
      ],
      "execution_count": null,
      "outputs": []
    },
    {
      "cell_type": "code",
      "metadata": {
        "id": "uYgAeyx3-YXB"
      },
      "source": [
        ""
      ],
      "execution_count": null,
      "outputs": []
    }
  ]
}